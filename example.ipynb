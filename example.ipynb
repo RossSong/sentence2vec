{
 "cells": [
  {
   "cell_type": "code",
   "execution_count": 4,
   "metadata": {
    "collapsed": true
   },
   "outputs": [],
   "source": [
    "decomposition = require \"decomposition\""
   ]
  },
  {
   "cell_type": "code",
   "execution_count": 9,
   "metadata": {
    "collapsed": false
   },
   "outputs": [],
   "source": [
    "embeddings = torch.load(\"/opt/playground/sentence2vec/data/embeddings.t7\")\n",
    "\n",
    "local in_file = io.open('/opt/playground/sentence2vec/data/test_sentences.txt', \"r\")\n",
    "sentences = {}\n",
    "for line in in_file:lines()  do\n",
    "    table.insert(sentences, line)\n",
    "end"
   ]
  },
  {
   "cell_type": "code",
   "execution_count": 10,
   "metadata": {
    "collapsed": false
   },
   "outputs": [
    {
     "data": {
      "text/plain": [
       "  10\n",
       " 300\n",
       "[torch.LongStorage of size 2]\n",
       "\n"
      ]
     },
     "execution_count": 10,
     "metadata": {},
     "output_type": "execute_result"
    },
    {
     "data": {
      "text/html": [
       "<script type=\"text/javascript\">\n",
       "$(function() {\n",
       "    if (typeof (window._bokeh_onload_callbacks) === \"undefined\"){\n",
       "  window._bokeh_onload_callbacks = [];\n",
       "    }\n",
       "    function load_lib(url, callback){\n",
       "  window._bokeh_onload_callbacks.push(callback);\n",
       "  if (window._bokeh_is_loading){\n",
       "      console.log(\"Bokeh: BokehJS is being loaded, scheduling callback at\", new Date());\n",
       "      return null;\n",
       "  }\n",
       "  console.log(\"Bokeh: BokehJS not loaded, scheduling load and callback at\", new Date());\n",
       "  window._bokeh_is_loading = true;\n",
       "  var s = document.createElement('script');\n",
       "  s.src = url;\n",
       "  s.async = true;\n",
       "  s.onreadystatechange = s.onload = function(){\n",
       "      Bokeh.embed.inject_css(\"https://cdn.pydata.org/bokeh-0.7.0.min.css\");\n",
       "      window._bokeh_onload_callbacks.forEach(function(callback){callback()});\n",
       "  };\n",
       "  s.onerror = function(){\n",
       "      console.warn(\"failed to load library \" + url);\n",
       "  };\n",
       "  document.getElementsByTagName(\"head\")[0].appendChild(s);\n",
       "    }\n",
       "\n",
       "    bokehjs_url = \"https://cdn.pydata.org/bokeh-0.7.0.min.js\"\n",
       "\n",
       "    var elt = document.getElementById(\"80916607-4ec3-4111-c1ce-45221464354c\");\n",
       "    if(elt==null) {\n",
       "  console.log(\"Bokeh: ERROR: autoload.js configured with elementid '80916607-4ec3-4111-c1ce-45221464354c'\"\n",
       "        + \"but no matching script tag was found. \")\n",
       "  return false;\n",
       "    }\n",
       "\n",
       "    if(typeof(Bokeh) !== \"undefined\") {\n",
       "  console.log(\"Bokeh: BokehJS loaded, going straight to plotting\");\n",
       "  var modelid = \"f7004df0-ddf7-4d03-cdb8-4fa1de6e3bcf\";\n",
       "  var modeltype = \"Plot\";\n",
       "  var all_models = [{\"id\":\"fc73a7e6-7404-4f02-cf0e-21bbb4c021ef\",\"type\":\"ColumnDataSource\",\"attributes\":{\"data\":{\"y\":[-0.15141268294466,-0.1364398356488,-0.046076116496681,-0.021891608296906,0.12659022817165,-0.014756161871345,0.092931220186228,0.08038321238441,-0.0016752478241543,0.0065678632863903],\"x\":[-0.086001340591453,-0.052899084166611,0.0071478438002047,-0.25665417222552,-0.21624488722259,-0.24447918148703,0.014864372221021,0.025459656185334,0.0020965881080265,0.0091694872872851]},\"column_names\":[\"y\",\"x\"],\"cont_ranges\":{},\"discrete_ranges\":{},\"selected\":[],\"id\":\"fc73a7e6-7404-4f02-cf0e-21bbb4c021ef\",\"doc\":null,\"tags\":[]}},{\"id\":\"3341b4ae-cbb7-4b06-cb09-af6b68284b67\",\"type\":\"Circle\",\"attributes\":{\"fill_alpha\":{\"units\":\"data\",\"value\":0.2},\"line_alpha\":{\"units\":\"data\",\"value\":1},\"doc\":null,\"size\":{\"units\":\"screen\",\"value\":10},\"fill_color\":{\"value\":\"red\"},\"line_color\":{\"value\":\"red\"},\"x\":{\"units\":\"data\",\"field\":\"x\"},\"id\":\"3341b4ae-cbb7-4b06-cb09-af6b68284b67\",\"y\":{\"units\":\"data\",\"field\":\"y\"},\"tags\":[]}},{\"id\":\"4790005a-184c-44cd-c430-d44d8e4487c9\",\"type\":\"Circle\",\"attributes\":{\"fill_alpha\":{\"units\":\"data\",\"value\":0.2},\"line_alpha\":{\"units\":\"data\",\"value\":1},\"doc\":null,\"size\":{\"units\":\"screen\",\"value\":10},\"fill_color\":{\"value\":\"red\"},\"line_color\":{\"value\":\"red\"},\"x\":{\"units\":\"data\",\"field\":\"x\"},\"id\":\"4790005a-184c-44cd-c430-d44d8e4487c9\",\"y\":{\"units\":\"data\",\"field\":\"y\"},\"tags\":[]}},{\"id\":\"851d1b8b-11ef-4d4f-cd56-15c4c5291a50\",\"type\":\"GlyphRenderer\",\"attributes\":{\"name\":null,\"nonselection_glyph\":{\"type\":\"Circle\",\"id\":\"4790005a-184c-44cd-c430-d44d8e4487c9\"},\"doc\":null,\"server_data_source\":null,\"data_source\":{\"type\":\"ColumnDataSource\",\"id\":\"fc73a7e6-7404-4f02-cf0e-21bbb4c021ef\"},\"glyph\":{\"type\":\"Circle\",\"id\":\"3341b4ae-cbb7-4b06-cb09-af6b68284b67\"},\"selection_glyph\":null,\"id\":\"851d1b8b-11ef-4d4f-cd56-15c4c5291a50\",\"tags\":[]}},{\"id\":\"edb83bf6-05e3-44b6-c4a2-4de8e78dc2eb\",\"type\":\"ColumnDataSource\",\"attributes\":{\"data\":{\"angle\":[0,0,0,0,0,0,0,0,0,0],\"x\":[-0.086001340591453,-0.052899084166611,0.0071478438002047,-0.25665417222552,-0.21624488722259,-0.24447918148703,0.014864372221021,0.025459656185334,0.0020965881080265,0.0091694872872851],\"y\":[-0.15141268294466,-0.1364398356488,-0.046076116496681,-0.021891608296906,0.12659022817165,-0.014756161871345,0.092931220186228,0.08038321238441,-0.0016752478241543,0.0065678632863903],\"text\":[\"John admires Mary\",\"John respects Mary\",\"John is in love with Mary\",\"Mary admires John\",\"Mary is in love with John\",\"Mary respects John\",\"London is the capital of the UK\",\"Moscow is the capital of Russia\",\"It looks like it's going to rain\",\"A fine morning can change into a wet afternoon and evening\"]},\"column_names\":[\"angle\",\"text\",\"y\",\"x\"],\"cont_ranges\":{},\"discrete_ranges\":{},\"selected\":[],\"id\":\"edb83bf6-05e3-44b6-c4a2-4de8e78dc2eb\",\"doc\":null,\"tags\":[]}},{\"id\":\"9ad64c8d-0dc1-490d-c9da-0dd82bac1e91\",\"type\":\"Text\",\"attributes\":{\"text_color\":{\"value\":\"black\"},\"text_font_size\":{\"value\":\"small\"},\"doc\":null,\"angle\":{\"units\":\"data\",\"field\":\"angle\"},\"text_align\":{\"units\":\"data\",\"field\":\"text_align\"},\"text\":{\"units\":\"data\",\"field\":\"text\"},\"x\":{\"units\":\"data\",\"field\":\"x\"},\"text_baseline\":{\"units\":\"data\",\"field\":\"text_baseline\"},\"id\":\"9ad64c8d-0dc1-490d-c9da-0dd82bac1e91\",\"y\":{\"units\":\"data\",\"field\":\"y\"},\"tags\":[]}},{\"id\":\"88fe02b4-c305-4443-c4bc-51a48e8ab53c\",\"type\":\"Text\",\"attributes\":{\"text_color\":{\"value\":\"black\"},\"text_font_size\":{\"value\":\"small\"},\"doc\":null,\"angle\":{\"units\":\"data\",\"field\":\"angle\"},\"text_align\":{\"units\":\"data\",\"field\":\"text_align\"},\"text\":{\"units\":\"data\",\"field\":\"text\"},\"x\":{\"units\":\"data\",\"field\":\"x\"},\"text_baseline\":{\"units\":\"data\",\"field\":\"text_baseline\"},\"id\":\"88fe02b4-c305-4443-c4bc-51a48e8ab53c\",\"y\":{\"units\":\"data\",\"field\":\"y\"},\"tags\":[]}},{\"id\":\"3de3aa81-2bc2-4514-c55b-552a597be5ee\",\"type\":\"GlyphRenderer\",\"attributes\":{\"name\":null,\"nonselection_glyph\":{\"type\":\"Text\",\"id\":\"88fe02b4-c305-4443-c4bc-51a48e8ab53c\"},\"doc\":null,\"server_data_source\":null,\"data_source\":{\"type\":\"ColumnDataSource\",\"id\":\"edb83bf6-05e3-44b6-c4a2-4de8e78dc2eb\"},\"glyph\":{\"type\":\"Text\",\"id\":\"9ad64c8d-0dc1-490d-c9da-0dd82bac1e91\"},\"selection_glyph\":null,\"id\":\"3de3aa81-2bc2-4514-c55b-552a597be5ee\",\"tags\":[]}},{\"id\":\"30478146-1415-43bc-c354-2f11b7f63741\",\"type\":\"DataRange1d\",\"attributes\":{\"sources\":[{\"columns\":[\"x\"],\"source\":{\"type\":\"ColumnDataSource\",\"id\":\"fc73a7e6-7404-4f02-cf0e-21bbb4c021ef\"}},{\"columns\":[\"x\"],\"source\":{\"type\":\"ColumnDataSource\",\"id\":\"edb83bf6-05e3-44b6-c4a2-4de8e78dc2eb\"}}],\"id\":\"30478146-1415-43bc-c354-2f11b7f63741\",\"tags\":[],\"doc\":null}},{\"id\":\"67fedde7-77f3-4be4-cbee-f8d7e302e1f3\",\"type\":\"DataRange1d\",\"attributes\":{\"sources\":[{\"columns\":[\"y\"],\"source\":{\"type\":\"ColumnDataSource\",\"id\":\"fc73a7e6-7404-4f02-cf0e-21bbb4c021ef\"}},{\"columns\":[\"y\"],\"source\":{\"type\":\"ColumnDataSource\",\"id\":\"edb83bf6-05e3-44b6-c4a2-4de8e78dc2eb\"}}],\"id\":\"67fedde7-77f3-4be4-cbee-f8d7e302e1f3\",\"tags\":[],\"doc\":null}},{\"id\":\"bf1c741c-5060-4927-c9b9-07391de6e8a4\",\"type\":\"ToolEvents\",\"attributes\":{\"tags\":[],\"id\":\"bf1c741c-5060-4927-c9b9-07391de6e8a4\",\"geometries\":[],\"doc\":null}},{\"id\":\"e4375cef-c895-46d0-c6a9-fab205519e72\",\"type\":\"BasicTickFormatter\",\"attributes\":{\"id\":\"e4375cef-c895-46d0-c6a9-fab205519e72\",\"tags\":[],\"doc\":null}},{\"id\":\"648b2e60-e405-4c40-cc5b-fff61141078a\",\"type\":\"BasicTicker\",\"attributes\":{\"num_minor_ticks\":5,\"id\":\"648b2e60-e405-4c40-cc5b-fff61141078a\",\"tags\":[],\"doc\":null}},{\"id\":\"489e075e-014c-4ef5-ce93-ac111bcdfad3\",\"type\":\"LinearAxis\",\"attributes\":{\"formatter\":{\"type\":\"BasicTickFormatter\",\"id\":\"e4375cef-c895-46d0-c6a9-fab205519e72\"},\"ticker\":{\"type\":\"BasicTicker\",\"id\":\"648b2e60-e405-4c40-cc5b-fff61141078a\"},\"plot\":{\"id\":\"f7004df0-ddf7-4d03-cdb8-4fa1de6e3bcf\",\"type\":\"Plot\",\"subtype\":\"Figure\"},\"axis_label\":null,\"id\":\"489e075e-014c-4ef5-ce93-ac111bcdfad3\",\"doc\":null,\"tags\":[]}},{\"id\":\"4323d333-fe4b-47ae-c720-624cf01f3eae\",\"type\":\"Grid\",\"attributes\":{\"dimension\":0,\"plot\":{\"id\":\"f7004df0-ddf7-4d03-cdb8-4fa1de6e3bcf\",\"type\":\"Plot\",\"subtype\":\"Figure\"},\"ticker\":{\"type\":\"BasicTicker\",\"id\":\"648b2e60-e405-4c40-cc5b-fff61141078a\"},\"id\":\"4323d333-fe4b-47ae-c720-624cf01f3eae\",\"doc\":null,\"tags\":[]}},{\"id\":\"1aa638fb-0aeb-4e45-cebe-45eea8d8a6e4\",\"type\":\"BasicTickFormatter\",\"attributes\":{\"id\":\"1aa638fb-0aeb-4e45-cebe-45eea8d8a6e4\",\"tags\":[],\"doc\":null}},{\"id\":\"a5b6de1d-d2b3-4e39-ce5e-d76a30234d47\",\"type\":\"BasicTicker\",\"attributes\":{\"num_minor_ticks\":5,\"id\":\"a5b6de1d-d2b3-4e39-ce5e-d76a30234d47\",\"tags\":[],\"doc\":null}},{\"id\":\"d8769ff3-60c1-4be2-cbef-3376017c54e6\",\"type\":\"LinearAxis\",\"attributes\":{\"formatter\":{\"type\":\"BasicTickFormatter\",\"id\":\"1aa638fb-0aeb-4e45-cebe-45eea8d8a6e4\"},\"ticker\":{\"type\":\"BasicTicker\",\"id\":\"a5b6de1d-d2b3-4e39-ce5e-d76a30234d47\"},\"plot\":{\"id\":\"f7004df0-ddf7-4d03-cdb8-4fa1de6e3bcf\",\"type\":\"Plot\",\"subtype\":\"Figure\"},\"axis_label\":null,\"id\":\"d8769ff3-60c1-4be2-cbef-3376017c54e6\",\"doc\":null,\"tags\":[]}},{\"id\":\"5cff97a7-73c3-432a-c325-b8d3f3c8984a\",\"type\":\"Grid\",\"attributes\":{\"dimension\":1,\"plot\":{\"id\":\"f7004df0-ddf7-4d03-cdb8-4fa1de6e3bcf\",\"type\":\"Plot\",\"subtype\":\"Figure\"},\"ticker\":{\"type\":\"BasicTicker\",\"id\":\"a5b6de1d-d2b3-4e39-ce5e-d76a30234d47\"},\"id\":\"5cff97a7-73c3-432a-c325-b8d3f3c8984a\",\"doc\":null,\"tags\":[]}},{\"id\":\"8fece7b3-34f4-4a7d-ca00-df339eec392a\",\"type\":\"PanTool\",\"attributes\":{\"plot\":{\"id\":\"f7004df0-ddf7-4d03-cdb8-4fa1de6e3bcf\",\"type\":\"Plot\",\"subtype\":\"Figure\"},\"dimensions\":[\"width\",\"height\"],\"id\":\"8fece7b3-34f4-4a7d-ca00-df339eec392a\",\"doc\":null,\"tags\":[]}},{\"id\":\"51b3bdeb-9054-46ac-c68b-ae4a6f851315\",\"type\":\"WheelZoomTool\",\"attributes\":{\"plot\":{\"id\":\"f7004df0-ddf7-4d03-cdb8-4fa1de6e3bcf\",\"type\":\"Plot\",\"subtype\":\"Figure\"},\"dimensions\":[\"width\",\"height\"],\"id\":\"51b3bdeb-9054-46ac-c68b-ae4a6f851315\",\"doc\":null,\"tags\":[]}},{\"id\":\"4e5f4750-9a88-4fca-cf9f-cd4ce3b7a203\",\"type\":\"BoxZoomTool\",\"attributes\":{\"plot\":{\"id\":\"f7004df0-ddf7-4d03-cdb8-4fa1de6e3bcf\",\"type\":\"Plot\",\"subtype\":\"Figure\"},\"id\":\"4e5f4750-9a88-4fca-cf9f-cd4ce3b7a203\",\"tags\":[],\"doc\":null}},{\"id\":\"49fd7e0a-99e4-42c9-c230-569e198fd904\",\"type\":\"PreviewSaveTool\",\"attributes\":{\"plot\":{\"id\":\"f7004df0-ddf7-4d03-cdb8-4fa1de6e3bcf\",\"type\":\"Plot\",\"subtype\":\"Figure\"},\"id\":\"49fd7e0a-99e4-42c9-c230-569e198fd904\",\"tags\":[],\"doc\":null}},{\"id\":\"71c762a4-7339-4c46-cc34-a9cde1830045\",\"type\":\"ResizeTool\",\"attributes\":{\"plot\":{\"id\":\"f7004df0-ddf7-4d03-cdb8-4fa1de6e3bcf\",\"type\":\"Plot\",\"subtype\":\"Figure\"},\"id\":\"71c762a4-7339-4c46-cc34-a9cde1830045\",\"tags\":[],\"doc\":null}},{\"id\":\"c743e878-2950-4f7e-cfc8-7835840a558a\",\"type\":\"ResetTool\",\"attributes\":{\"plot\":{\"id\":\"f7004df0-ddf7-4d03-cdb8-4fa1de6e3bcf\",\"type\":\"Plot\",\"subtype\":\"Figure\"},\"id\":\"c743e878-2950-4f7e-cfc8-7835840a558a\",\"tags\":[],\"doc\":null}},{\"id\":\"f7004df0-ddf7-4d03-cdb8-4fa1de6e3bcf\",\"type\":\"Plot\",\"attributes\":{\"x_range\":{\"type\":\"DataRange1d\",\"id\":\"30478146-1415-43bc-c354-2f11b7f63741\"},\"tool_events\":{\"type\":\"ToolEvents\",\"id\":\"bf1c741c-5060-4927-c9b9-07391de6e8a4\"},\"below\":[{\"type\":\"LinearAxis\",\"id\":\"489e075e-014c-4ef5-ce93-ac111bcdfad3\"}],\"renderers\":[{\"type\":\"GlyphRenderer\",\"id\":\"851d1b8b-11ef-4d4f-cd56-15c4c5291a50\"},{\"type\":\"GlyphRenderer\",\"id\":\"3de3aa81-2bc2-4514-c55b-552a597be5ee\"},{\"type\":\"LinearAxis\",\"id\":\"489e075e-014c-4ef5-ce93-ac111bcdfad3\"},{\"type\":\"Grid\",\"id\":\"4323d333-fe4b-47ae-c720-624cf01f3eae\"},{\"type\":\"LinearAxis\",\"id\":\"d8769ff3-60c1-4be2-cbef-3376017c54e6\"},{\"type\":\"Grid\",\"id\":\"5cff97a7-73c3-432a-c325-b8d3f3c8984a\"}],\"above\":[],\"tools\":[{\"type\":\"PanTool\",\"id\":\"8fece7b3-34f4-4a7d-ca00-df339eec392a\"},{\"type\":\"WheelZoomTool\",\"id\":\"51b3bdeb-9054-46ac-c68b-ae4a6f851315\"},{\"type\":\"BoxZoomTool\",\"id\":\"4e5f4750-9a88-4fca-cf9f-cd4ce3b7a203\"},{\"type\":\"PreviewSaveTool\",\"id\":\"49fd7e0a-99e4-42c9-c230-569e198fd904\"},{\"type\":\"ResizeTool\",\"id\":\"71c762a4-7339-4c46-cc34-a9cde1830045\"},{\"type\":\"ResetTool\",\"id\":\"c743e878-2950-4f7e-cfc8-7835840a558a\"}],\"doc\":null,\"right\":[],\"title\":\"2-dimensional PCA projection\",\"extra_x_ranges\":{},\"left\":[{\"type\":\"LinearAxis\",\"id\":\"d8769ff3-60c1-4be2-cbef-3376017c54e6\"}],\"y_range\":{\"type\":\"DataRange1d\",\"id\":\"67fedde7-77f3-4be4-cbee-f8d7e302e1f3\"},\"id\":\"f7004df0-ddf7-4d03-cdb8-4fa1de6e3bcf\",\"extra_y_ranges\":{},\"tags\":[]}}];\n",
       "  Bokeh.load_models(all_models);\n",
       "  var model = Bokeh.Collections(modeltype).get(modelid);\n",
       "  $(\"#80916607-4ec3-4111-c1ce-45221464354c\").html(''); // clear any previous plot in window_id\n",
       "  var view = new model.default_view({model: model, el: \"#80916607-4ec3-4111-c1ce-45221464354c\"});\n",
       "    } else {\n",
       "  load_lib(bokehjs_url, function() {\n",
       "      console.log(\"Bokeh: BokehJS plotting callback run at\", new Date())\n",
       "      var modelid = \"f7004df0-ddf7-4d03-cdb8-4fa1de6e3bcf\";\n",
       "      var modeltype = \"Plot\";\n",
       "      var all_models = [{\"id\":\"fc73a7e6-7404-4f02-cf0e-21bbb4c021ef\",\"type\":\"ColumnDataSource\",\"attributes\":{\"data\":{\"y\":[-0.15141268294466,-0.1364398356488,-0.046076116496681,-0.021891608296906,0.12659022817165,-0.014756161871345,0.092931220186228,0.08038321238441,-0.0016752478241543,0.0065678632863903],\"x\":[-0.086001340591453,-0.052899084166611,0.0071478438002047,-0.25665417222552,-0.21624488722259,-0.24447918148703,0.014864372221021,0.025459656185334,0.0020965881080265,0.0091694872872851]},\"column_names\":[\"y\",\"x\"],\"cont_ranges\":{},\"discrete_ranges\":{},\"selected\":[],\"id\":\"fc73a7e6-7404-4f02-cf0e-21bbb4c021ef\",\"doc\":null,\"tags\":[]}},{\"id\":\"3341b4ae-cbb7-4b06-cb09-af6b68284b67\",\"type\":\"Circle\",\"attributes\":{\"fill_alpha\":{\"units\":\"data\",\"value\":0.2},\"line_alpha\":{\"units\":\"data\",\"value\":1},\"doc\":null,\"size\":{\"units\":\"screen\",\"value\":10},\"fill_color\":{\"value\":\"red\"},\"line_color\":{\"value\":\"red\"},\"x\":{\"units\":\"data\",\"field\":\"x\"},\"id\":\"3341b4ae-cbb7-4b06-cb09-af6b68284b67\",\"y\":{\"units\":\"data\",\"field\":\"y\"},\"tags\":[]}},{\"id\":\"4790005a-184c-44cd-c430-d44d8e4487c9\",\"type\":\"Circle\",\"attributes\":{\"fill_alpha\":{\"units\":\"data\",\"value\":0.2},\"line_alpha\":{\"units\":\"data\",\"value\":1},\"doc\":null,\"size\":{\"units\":\"screen\",\"value\":10},\"fill_color\":{\"value\":\"red\"},\"line_color\":{\"value\":\"red\"},\"x\":{\"units\":\"data\",\"field\":\"x\"},\"id\":\"4790005a-184c-44cd-c430-d44d8e4487c9\",\"y\":{\"units\":\"data\",\"field\":\"y\"},\"tags\":[]}},{\"id\":\"851d1b8b-11ef-4d4f-cd56-15c4c5291a50\",\"type\":\"GlyphRenderer\",\"attributes\":{\"name\":null,\"nonselection_glyph\":{\"type\":\"Circle\",\"id\":\"4790005a-184c-44cd-c430-d44d8e4487c9\"},\"doc\":null,\"server_data_source\":null,\"data_source\":{\"type\":\"ColumnDataSource\",\"id\":\"fc73a7e6-7404-4f02-cf0e-21bbb4c021ef\"},\"glyph\":{\"type\":\"Circle\",\"id\":\"3341b4ae-cbb7-4b06-cb09-af6b68284b67\"},\"selection_glyph\":null,\"id\":\"851d1b8b-11ef-4d4f-cd56-15c4c5291a50\",\"tags\":[]}},{\"id\":\"edb83bf6-05e3-44b6-c4a2-4de8e78dc2eb\",\"type\":\"ColumnDataSource\",\"attributes\":{\"data\":{\"angle\":[0,0,0,0,0,0,0,0,0,0],\"x\":[-0.086001340591453,-0.052899084166611,0.0071478438002047,-0.25665417222552,-0.21624488722259,-0.24447918148703,0.014864372221021,0.025459656185334,0.0020965881080265,0.0091694872872851],\"y\":[-0.15141268294466,-0.1364398356488,-0.046076116496681,-0.021891608296906,0.12659022817165,-0.014756161871345,0.092931220186228,0.08038321238441,-0.0016752478241543,0.0065678632863903],\"text\":[\"John admires Mary\",\"John respects Mary\",\"John is in love with Mary\",\"Mary admires John\",\"Mary is in love with John\",\"Mary respects John\",\"London is the capital of the UK\",\"Moscow is the capital of Russia\",\"It looks like it's going to rain\",\"A fine morning can change into a wet afternoon and evening\"]},\"column_names\":[\"angle\",\"text\",\"y\",\"x\"],\"cont_ranges\":{},\"discrete_ranges\":{},\"selected\":[],\"id\":\"edb83bf6-05e3-44b6-c4a2-4de8e78dc2eb\",\"doc\":null,\"tags\":[]}},{\"id\":\"9ad64c8d-0dc1-490d-c9da-0dd82bac1e91\",\"type\":\"Text\",\"attributes\":{\"text_color\":{\"value\":\"black\"},\"text_font_size\":{\"value\":\"small\"},\"doc\":null,\"angle\":{\"units\":\"data\",\"field\":\"angle\"},\"text_align\":{\"units\":\"data\",\"field\":\"text_align\"},\"text\":{\"units\":\"data\",\"field\":\"text\"},\"x\":{\"units\":\"data\",\"field\":\"x\"},\"text_baseline\":{\"units\":\"data\",\"field\":\"text_baseline\"},\"id\":\"9ad64c8d-0dc1-490d-c9da-0dd82bac1e91\",\"y\":{\"units\":\"data\",\"field\":\"y\"},\"tags\":[]}},{\"id\":\"88fe02b4-c305-4443-c4bc-51a48e8ab53c\",\"type\":\"Text\",\"attributes\":{\"text_color\":{\"value\":\"black\"},\"text_font_size\":{\"value\":\"small\"},\"doc\":null,\"angle\":{\"units\":\"data\",\"field\":\"angle\"},\"text_align\":{\"units\":\"data\",\"field\":\"text_align\"},\"text\":{\"units\":\"data\",\"field\":\"text\"},\"x\":{\"units\":\"data\",\"field\":\"x\"},\"text_baseline\":{\"units\":\"data\",\"field\":\"text_baseline\"},\"id\":\"88fe02b4-c305-4443-c4bc-51a48e8ab53c\",\"y\":{\"units\":\"data\",\"field\":\"y\"},\"tags\":[]}},{\"id\":\"3de3aa81-2bc2-4514-c55b-552a597be5ee\",\"type\":\"GlyphRenderer\",\"attributes\":{\"name\":null,\"nonselection_glyph\":{\"type\":\"Text\",\"id\":\"88fe02b4-c305-4443-c4bc-51a48e8ab53c\"},\"doc\":null,\"server_data_source\":null,\"data_source\":{\"type\":\"ColumnDataSource\",\"id\":\"edb83bf6-05e3-44b6-c4a2-4de8e78dc2eb\"},\"glyph\":{\"type\":\"Text\",\"id\":\"9ad64c8d-0dc1-490d-c9da-0dd82bac1e91\"},\"selection_glyph\":null,\"id\":\"3de3aa81-2bc2-4514-c55b-552a597be5ee\",\"tags\":[]}},{\"id\":\"30478146-1415-43bc-c354-2f11b7f63741\",\"type\":\"DataRange1d\",\"attributes\":{\"sources\":[{\"columns\":[\"x\"],\"source\":{\"type\":\"ColumnDataSource\",\"id\":\"fc73a7e6-7404-4f02-cf0e-21bbb4c021ef\"}},{\"columns\":[\"x\"],\"source\":{\"type\":\"ColumnDataSource\",\"id\":\"edb83bf6-05e3-44b6-c4a2-4de8e78dc2eb\"}}],\"id\":\"30478146-1415-43bc-c354-2f11b7f63741\",\"tags\":[],\"doc\":null}},{\"id\":\"67fedde7-77f3-4be4-cbee-f8d7e302e1f3\",\"type\":\"DataRange1d\",\"attributes\":{\"sources\":[{\"columns\":[\"y\"],\"source\":{\"type\":\"ColumnDataSource\",\"id\":\"fc73a7e6-7404-4f02-cf0e-21bbb4c021ef\"}},{\"columns\":[\"y\"],\"source\":{\"type\":\"ColumnDataSource\",\"id\":\"edb83bf6-05e3-44b6-c4a2-4de8e78dc2eb\"}}],\"id\":\"67fedde7-77f3-4be4-cbee-f8d7e302e1f3\",\"tags\":[],\"doc\":null}},{\"id\":\"bf1c741c-5060-4927-c9b9-07391de6e8a4\",\"type\":\"ToolEvents\",\"attributes\":{\"tags\":[],\"id\":\"bf1c741c-5060-4927-c9b9-07391de6e8a4\",\"geometries\":[],\"doc\":null}},{\"id\":\"e4375cef-c895-46d0-c6a9-fab205519e72\",\"type\":\"BasicTickFormatter\",\"attributes\":{\"id\":\"e4375cef-c895-46d0-c6a9-fab205519e72\",\"tags\":[],\"doc\":null}},{\"id\":\"648b2e60-e405-4c40-cc5b-fff61141078a\",\"type\":\"BasicTicker\",\"attributes\":{\"num_minor_ticks\":5,\"id\":\"648b2e60-e405-4c40-cc5b-fff61141078a\",\"tags\":[],\"doc\":null}},{\"id\":\"489e075e-014c-4ef5-ce93-ac111bcdfad3\",\"type\":\"LinearAxis\",\"attributes\":{\"formatter\":{\"type\":\"BasicTickFormatter\",\"id\":\"e4375cef-c895-46d0-c6a9-fab205519e72\"},\"ticker\":{\"type\":\"BasicTicker\",\"id\":\"648b2e60-e405-4c40-cc5b-fff61141078a\"},\"plot\":{\"id\":\"f7004df0-ddf7-4d03-cdb8-4fa1de6e3bcf\",\"type\":\"Plot\",\"subtype\":\"Figure\"},\"axis_label\":null,\"id\":\"489e075e-014c-4ef5-ce93-ac111bcdfad3\",\"doc\":null,\"tags\":[]}},{\"id\":\"4323d333-fe4b-47ae-c720-624cf01f3eae\",\"type\":\"Grid\",\"attributes\":{\"dimension\":0,\"plot\":{\"id\":\"f7004df0-ddf7-4d03-cdb8-4fa1de6e3bcf\",\"type\":\"Plot\",\"subtype\":\"Figure\"},\"ticker\":{\"type\":\"BasicTicker\",\"id\":\"648b2e60-e405-4c40-cc5b-fff61141078a\"},\"id\":\"4323d333-fe4b-47ae-c720-624cf01f3eae\",\"doc\":null,\"tags\":[]}},{\"id\":\"1aa638fb-0aeb-4e45-cebe-45eea8d8a6e4\",\"type\":\"BasicTickFormatter\",\"attributes\":{\"id\":\"1aa638fb-0aeb-4e45-cebe-45eea8d8a6e4\",\"tags\":[],\"doc\":null}},{\"id\":\"a5b6de1d-d2b3-4e39-ce5e-d76a30234d47\",\"type\":\"BasicTicker\",\"attributes\":{\"num_minor_ticks\":5,\"id\":\"a5b6de1d-d2b3-4e39-ce5e-d76a30234d47\",\"tags\":[],\"doc\":null}},{\"id\":\"d8769ff3-60c1-4be2-cbef-3376017c54e6\",\"type\":\"LinearAxis\",\"attributes\":{\"formatter\":{\"type\":\"BasicTickFormatter\",\"id\":\"1aa638fb-0aeb-4e45-cebe-45eea8d8a6e4\"},\"ticker\":{\"type\":\"BasicTicker\",\"id\":\"a5b6de1d-d2b3-4e39-ce5e-d76a30234d47\"},\"plot\":{\"id\":\"f7004df0-ddf7-4d03-cdb8-4fa1de6e3bcf\",\"type\":\"Plot\",\"subtype\":\"Figure\"},\"axis_label\":null,\"id\":\"d8769ff3-60c1-4be2-cbef-3376017c54e6\",\"doc\":null,\"tags\":[]}},{\"id\":\"5cff97a7-73c3-432a-c325-b8d3f3c8984a\",\"type\":\"Grid\",\"attributes\":{\"dimension\":1,\"plot\":{\"id\":\"f7004df0-ddf7-4d03-cdb8-4fa1de6e3bcf\",\"type\":\"Plot\",\"subtype\":\"Figure\"},\"ticker\":{\"type\":\"BasicTicker\",\"id\":\"a5b6de1d-d2b3-4e39-ce5e-d76a30234d47\"},\"id\":\"5cff97a7-73c3-432a-c325-b8d3f3c8984a\",\"doc\":null,\"tags\":[]}},{\"id\":\"8fece7b3-34f4-4a7d-ca00-df339eec392a\",\"type\":\"PanTool\",\"attributes\":{\"plot\":{\"id\":\"f7004df0-ddf7-4d03-cdb8-4fa1de6e3bcf\",\"type\":\"Plot\",\"subtype\":\"Figure\"},\"dimensions\":[\"width\",\"height\"],\"id\":\"8fece7b3-34f4-4a7d-ca00-df339eec392a\",\"doc\":null,\"tags\":[]}},{\"id\":\"51b3bdeb-9054-46ac-c68b-ae4a6f851315\",\"type\":\"WheelZoomTool\",\"attributes\":{\"plot\":{\"id\":\"f7004df0-ddf7-4d03-cdb8-4fa1de6e3bcf\",\"type\":\"Plot\",\"subtype\":\"Figure\"},\"dimensions\":[\"width\",\"height\"],\"id\":\"51b3bdeb-9054-46ac-c68b-ae4a6f851315\",\"doc\":null,\"tags\":[]}},{\"id\":\"4e5f4750-9a88-4fca-cf9f-cd4ce3b7a203\",\"type\":\"BoxZoomTool\",\"attributes\":{\"plot\":{\"id\":\"f7004df0-ddf7-4d03-cdb8-4fa1de6e3bcf\",\"type\":\"Plot\",\"subtype\":\"Figure\"},\"id\":\"4e5f4750-9a88-4fca-cf9f-cd4ce3b7a203\",\"tags\":[],\"doc\":null}},{\"id\":\"49fd7e0a-99e4-42c9-c230-569e198fd904\",\"type\":\"PreviewSaveTool\",\"attributes\":{\"plot\":{\"id\":\"f7004df0-ddf7-4d03-cdb8-4fa1de6e3bcf\",\"type\":\"Plot\",\"subtype\":\"Figure\"},\"id\":\"49fd7e0a-99e4-42c9-c230-569e198fd904\",\"tags\":[],\"doc\":null}},{\"id\":\"71c762a4-7339-4c46-cc34-a9cde1830045\",\"type\":\"ResizeTool\",\"attributes\":{\"plot\":{\"id\":\"f7004df0-ddf7-4d03-cdb8-4fa1de6e3bcf\",\"type\":\"Plot\",\"subtype\":\"Figure\"},\"id\":\"71c762a4-7339-4c46-cc34-a9cde1830045\",\"tags\":[],\"doc\":null}},{\"id\":\"c743e878-2950-4f7e-cfc8-7835840a558a\",\"type\":\"ResetTool\",\"attributes\":{\"plot\":{\"id\":\"f7004df0-ddf7-4d03-cdb8-4fa1de6e3bcf\",\"type\":\"Plot\",\"subtype\":\"Figure\"},\"id\":\"c743e878-2950-4f7e-cfc8-7835840a558a\",\"tags\":[],\"doc\":null}},{\"id\":\"f7004df0-ddf7-4d03-cdb8-4fa1de6e3bcf\",\"type\":\"Plot\",\"attributes\":{\"x_range\":{\"type\":\"DataRange1d\",\"id\":\"30478146-1415-43bc-c354-2f11b7f63741\"},\"tool_events\":{\"type\":\"ToolEvents\",\"id\":\"bf1c741c-5060-4927-c9b9-07391de6e8a4\"},\"below\":[{\"type\":\"LinearAxis\",\"id\":\"489e075e-014c-4ef5-ce93-ac111bcdfad3\"}],\"renderers\":[{\"type\":\"GlyphRenderer\",\"id\":\"851d1b8b-11ef-4d4f-cd56-15c4c5291a50\"},{\"type\":\"GlyphRenderer\",\"id\":\"3de3aa81-2bc2-4514-c55b-552a597be5ee\"},{\"type\":\"LinearAxis\",\"id\":\"489e075e-014c-4ef5-ce93-ac111bcdfad3\"},{\"type\":\"Grid\",\"id\":\"4323d333-fe4b-47ae-c720-624cf01f3eae\"},{\"type\":\"LinearAxis\",\"id\":\"d8769ff3-60c1-4be2-cbef-3376017c54e6\"},{\"type\":\"Grid\",\"id\":\"5cff97a7-73c3-432a-c325-b8d3f3c8984a\"}],\"above\":[],\"tools\":[{\"type\":\"PanTool\",\"id\":\"8fece7b3-34f4-4a7d-ca00-df339eec392a\"},{\"type\":\"WheelZoomTool\",\"id\":\"51b3bdeb-9054-46ac-c68b-ae4a6f851315\"},{\"type\":\"BoxZoomTool\",\"id\":\"4e5f4750-9a88-4fca-cf9f-cd4ce3b7a203\"},{\"type\":\"PreviewSaveTool\",\"id\":\"49fd7e0a-99e4-42c9-c230-569e198fd904\"},{\"type\":\"ResizeTool\",\"id\":\"71c762a4-7339-4c46-cc34-a9cde1830045\"},{\"type\":\"ResetTool\",\"id\":\"c743e878-2950-4f7e-cfc8-7835840a558a\"}],\"doc\":null,\"right\":[],\"title\":\"2-dimensional PCA projection\",\"extra_x_ranges\":{},\"left\":[{\"type\":\"LinearAxis\",\"id\":\"d8769ff3-60c1-4be2-cbef-3376017c54e6\"}],\"y_range\":{\"type\":\"DataRange1d\",\"id\":\"67fedde7-77f3-4be4-cbee-f8d7e302e1f3\"},\"id\":\"f7004df0-ddf7-4d03-cdb8-4fa1de6e3bcf\",\"extra_y_ranges\":{},\"tags\":[]}}];\n",
       "      Bokeh.load_models(all_models);\n",
       "      var model = Bokeh.Collections(modeltype).get(modelid);\n",
       "      $(\"#80916607-4ec3-4111-c1ce-45221464354c\").html(''); // clear any previous plot in window_id\n",
       "      var view = new model.default_view({model: model, el: \"#80916607-4ec3-4111-c1ce-45221464354c\"});\n",
       "  });\n",
       "    }\n",
       "});\n",
       "</script>\n",
       "<div class=\"plotdiv\" id=\"80916607-4ec3-4111-c1ce-45221464354c\"></div>\n"
      ]
     },
     "metadata": {},
     "output_type": "display_data"
    }
   ],
   "source": [
    "print(embeddings:size())U = decomposition.pca(embeddings, 2)\n",
    "X_t = embeddings * U\n",
    "\n",
    "x = X_t[{{},{1}}]:squeeze()\n",
    "y = X_t[{{},{2}}]:squeeze()\n",
    "\n",
    "itorch.Plot()\n",
    "    :gscatter(x,y)\n",
    "    :text(x, y, sentences, torch.zeros(#sentences), 'black', 'small')\n",
    "    :title('2-dimensional PCA projection')\n",
    "    :legend(false):draw();"
   ]
  }
 ],
 "metadata": {
  "kernelspec": {
   "display_name": "iTorch",
   "language": "lua",
   "name": "itorch"
  },
  "language_info": {
   "name": "lua",
   "version": "5.1"
  }
 },
 "nbformat": 4,
 "nbformat_minor": 0
}
